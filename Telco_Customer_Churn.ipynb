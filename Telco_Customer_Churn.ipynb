{
  "nbformat": 4,
  "nbformat_minor": 0,
  "metadata": {
    "colab": {
      "private_outputs": true,
      "provenance": []
    },
    "kernelspec": {
      "name": "python3",
      "display_name": "Python 3"
    },
    "language_info": {
      "name": "python"
    }
  },
  "cells": [
    {
      "cell_type": "code",
      "execution_count": null,
      "metadata": {
        "id": "UzjUQdE2UobW"
      },
      "outputs": [],
      "source": [
        "import pandas as pd\n",
        "import numpy as np\n",
        "import matplotlib.pyplot as plt\n",
        "import seaborn as sns\n",
        "import plotly.express as px"
      ]
    },
    {
      "cell_type": "markdown",
      "source": [
        "## **Data Wrangling**"
      ],
      "metadata": {
        "id": "o6NBOZ52U-cc"
      }
    },
    {
      "cell_type": "markdown",
      "source": [
        "Data Gathering"
      ],
      "metadata": {
        "id": "OrBAqR7qVMcb"
      }
    },
    {
      "cell_type": "code",
      "source": [
        "!git clone https://github.com/daytapy/Customer_Churn.git /content/Customer_Churn"
      ],
      "metadata": {
        "id": "0YiSvQ3BVFcH"
      },
      "execution_count": null,
      "outputs": []
    },
    {
      "cell_type": "code",
      "source": [
        "file_path = '/content/Customer_Churn/Telco_customer_churn_adapted_v2.xlsx'\n",
        "telco_df = pd.read_excel(file_path)\n",
        "telco_df.head()"
      ],
      "metadata": {
        "id": "SoAKarZuYG6n"
      },
      "execution_count": null,
      "outputs": []
    },
    {
      "cell_type": "markdown",
      "source": [
        "Assesing Data"
      ],
      "metadata": {
        "id": "uoN5aLt6Ytpq"
      }
    },
    {
      "cell_type": "code",
      "source": [
        "telco_df.info()"
      ],
      "metadata": {
        "id": "t9-gzd9zYTUM"
      },
      "execution_count": null,
      "outputs": []
    },
    {
      "cell_type": "code",
      "source": [
        "telco_df.describe()"
      ],
      "metadata": {
        "id": "7rSwcWSfY0-E"
      },
      "execution_count": null,
      "outputs": []
    },
    {
      "cell_type": "code",
      "source": [
        "print('Jumlah Data Duplikat : ', telco_df.duplicated().sum())"
      ],
      "metadata": {
        "id": "1te4KMjEY8pt"
      },
      "execution_count": null,
      "outputs": []
    },
    {
      "cell_type": "code",
      "source": [
        "korelasi = telco_df.corr()\n",
        "sns.heatmap(korelasi, annot=True, cmap='YlGnBu')\n",
        "plt.show()"
      ],
      "metadata": {
        "id": "OlMKqpdkY_gQ"
      },
      "execution_count": null,
      "outputs": []
    },
    {
      "cell_type": "markdown",
      "source": [
        "# **Exploratory Data Analysis**"
      ],
      "metadata": {
        "id": "Pw9hztkmZl-N"
      }
    },
    {
      "cell_type": "code",
      "source": [
        "#Menambahkan underscore pada setiap nama kolom agar dapat di panggil\n",
        "telco_df = telco_df.rename(columns=lambda x: x.replace(' ','_'))\n",
        "telco_df.head()"
      ],
      "metadata": {
        "id": "BzYUoPVrZExt"
      },
      "execution_count": null,
      "outputs": []
    },
    {
      "cell_type": "code",
      "source": [
        "telco_df = telco_df.rename(columns={'Monthly_Purchase_(Thou._IDR)':'Monthly_Purchase', 'CLTV_(Predicted_Thou._IDR)':'CLTV'})\n",
        "telco_df.head()"
      ],
      "metadata": {
        "id": "ARw7hYkcZJYN"
      },
      "execution_count": null,
      "outputs": []
    },
    {
      "cell_type": "code",
      "source": [
        "telco_df['Total_Charges'] = telco_df['Monthly_Purchase'] * telco_df['Tenure_Months']\n",
        "telco_df.head()"
      ],
      "metadata": {
        "id": "1waFdf10ZNjS"
      },
      "execution_count": null,
      "outputs": []
    },
    {
      "cell_type": "code",
      "source": [
        "def categorize_tenure(tenure):\n",
        "    if 1 <= tenure <= 11:\n",
        "        return '< 1 Tahun'\n",
        "    elif tenure == 12:\n",
        "        return '1 Tahun'\n",
        "    elif 12 < tenure <= 24:\n",
        "        return '2 Tahun'\n",
        "    elif 24 < tenure <= 36:\n",
        "        return '3 Tahun'\n",
        "    else:\n",
        "        return '> 3 Tahun'\n",
        "    # Tambahkan kategori lain jika diperlukan\n",
        "\n",
        "# Buat kolom baru 'contract_type' berdasarkan 'tenure_month'\n",
        "telco_df['Contract_Type'] = telco_df['Tenure_Months'].apply(categorize_tenure)\n",
        "telco_df.head()"
      ],
      "metadata": {
        "id": "HcOgLSgEZQej"
      },
      "execution_count": null,
      "outputs": []
    },
    {
      "cell_type": "markdown",
      "source": [
        "***Bagaimana perbandingan jumlah customer yg melakukan churn dengan yang tidak melakukan churn?***"
      ],
      "metadata": {
        "id": "yGxrgCRuZ3Yg"
      }
    },
    {
      "cell_type": "code",
      "source": [
        "churn_plot = telco_df.groupby(by='Churn_Label').Customer_ID.nunique().sort_values(ascending=False).reset_index()\n",
        "churn_plot"
      ],
      "metadata": {
        "id": "yIo5V2NQZVyp"
      },
      "execution_count": null,
      "outputs": []
    },
    {
      "cell_type": "code",
      "source": [
        "fig = px.pie(\n",
        "    churn_plot,\n",
        "    values='Customer_ID',\n",
        "    names='Churn_Label',\n",
        "    color='Churn_Label',\n",
        "    color_discrete_map={'Yes':'cyan',\n",
        "                        'No':'darkblue'}\n",
        ")\n",
        "fig.show()"
      ],
      "metadata": {
        "id": "kseBwmYKaIa4"
      },
      "execution_count": null,
      "outputs": []
    },
    {
      "cell_type": "markdown",
      "source": [
        "Dilihat dari pie chart diatas, bahwa jumlah customer yang melakukan churn (berpindah ke operator lain) sebesar 26,5%. Sedangkan jumlah customer yang tidak melakukan churn (masih tetap di operator ini) sebesar 73,5%."
      ],
      "metadata": {
        "id": "-9NQqcmbajfb"
      }
    },
    {
      "cell_type": "markdown",
      "source": [
        "***Bagaimana lokasi geografis pelanggan yang kita miliki?***"
      ],
      "metadata": {
        "id": "8DEXeAHsaujT"
      }
    },
    {
      "cell_type": "code",
      "source": [
        "fig = px.scatter_mapbox(telco_df.groupby(['Latitude','Longitude'])['Customer_ID'].count().reset_index(), lat=\"Latitude\", lon=\"Longitude\", hover_data= ['Customer_ID'], zoom=4, height=300)\n",
        "fig.update_layout(mapbox_style=\"open-street-map\")\n",
        "fig.update_layout(margin={\"r\":0,\"t\":0,\"l\":0,\"b\":0})\n",
        "fig.show()"
      ],
      "metadata": {
        "id": "_n6_3nHcafzZ"
      },
      "execution_count": null,
      "outputs": []
    },
    {
      "cell_type": "code",
      "source": [
        "telco_df.groupby(by='Location').Customer_ID.nunique().sort_values(ascending=False).reset_index()"
      ],
      "metadata": {
        "id": "j4U1MH87a9iB"
      },
      "execution_count": null,
      "outputs": []
    },
    {
      "cell_type": "markdown",
      "source": [
        "\n",
        "*   Customer yang kita miliki berasal dari 2 lokasi yaitu Jakarta dan Bandung\n",
        "*   Customer terbanyak berasal dari Jakarta\n",
        "\n"
      ],
      "metadata": {
        "id": "k8-58T5Aa-aA"
      }
    },
    {
      "cell_type": "markdown",
      "source": [
        "***Bagaimana produk tambahan seperti Games Product, Music Product, Education Product, Call Center, Video Product, dan Use MyApp memengaruhi tingkat churn?***"
      ],
      "metadata": {
        "id": "WD2YTXbYb9DE"
      }
    },
    {
      "cell_type": "code",
      "source": [
        "fig, axes = plt.subplots(2,3, figsize = (15,7), sharey = True)\n",
        "plt.suptitle(\"Pengaruh Produk Tambahan Terhadap Tingkat Churn\")\n",
        "sns.countplot(x = \"Games_Product\", data = telco_df, hue = \"Churn_Label\", ax=axes[0,0], palette=\"Set1\")\n",
        "sns.countplot(x = \"Music_Product\", data = telco_df, hue = \"Churn_Label\", ax=axes[0,1], palette=\"Set1\")\n",
        "sns.countplot(x = \"Education_Product\", data = telco_df, hue = \"Churn_Label\", ax=axes[0,2], palette=\"Set1\")\n",
        "sns.countplot(x = \"Call_Center\", data = telco_df, hue = \"Churn_Label\", ax=axes[1,0], palette=\"Set1\")\n",
        "sns.countplot(x = \"Video_Product\", data = telco_df, hue = \"Churn_Label\", ax=axes[1,1], palette=\"Set1\")\n",
        "sns.countplot(x = \"Use_MyApp\", data = telco_df, hue = \"Churn_Label\", ax=axes[1,2], palette=\"Set1\")\n",
        "plt.show()"
      ],
      "metadata": {
        "id": "N2uAJvtLbXn9"
      },
      "execution_count": null,
      "outputs": []
    },
    {
      "cell_type": "markdown",
      "source": [
        "\n",
        "\n",
        "*   Penggunaan Games Product, Music Product, Education Product dan Call Center\n",
        "tampaknya memiliki sedikit pengaruh terhadap tingkat churn, dengan tingkat churn yang relatif rendah artinya operator ini cukup baik dalam layanan produk2 tambahan tersebut.\n",
        "*   Dan juga sama dengan penggunaan Video Product dan Use MyApp, memiliki tingkat churn yang relatif rendah meskipun lebih besar sedikit dari 4 produk tambahan lainnya.\n",
        "\n"
      ],
      "metadata": {
        "id": "trBh10yrcSQQ"
      }
    },
    {
      "cell_type": "markdown",
      "source": [
        "***Bagaimana tingkat churn berkaitan dengan lamanya customer berlangganan (Tenure Months)?***"
      ],
      "metadata": {
        "id": "yiYjBcvhceM5"
      }
    },
    {
      "cell_type": "code",
      "source": [
        "plt.figure(figsize=(8, 4))\n",
        "sns.kdeplot(data=telco_df, x=\"Tenure_Months\", hue=\"Churn_Label\", common_norm=False, fill=True, palette=\"Set1\")\n",
        "plt.title(\"Distribusi Tingkat Churn berdasarkan Lamanya Berlangganan (Tenure Months)\")\n",
        "plt.xlabel(\"Tenure Months\")\n",
        "plt.ylabel(\"Density\")\n",
        "plt.legend(title=\"Churn\", labels=[\"Tidak Churn\", \"Churn\"])\n",
        "plt.show()"
      ],
      "metadata": {
        "id": "pml6QLLZcIms"
      },
      "execution_count": null,
      "outputs": []
    },
    {
      "cell_type": "markdown",
      "source": [
        "\n",
        "\n",
        "*   Tingkat churn cenderung lebih tinggi pada awal langganan (Tenure Months rendah) dan kemudian mengalami penurunan seiring dengan berjalannya waktu. Hal ini menunjukkan bahwa customer yang baru bergabung cenderung memiliki tingkat churn yang lebih tinggi.\n",
        "*   Sedangkan customer yang telah berlangganan lebih lama cenderung lebih stabil dalam menggunakan layanan perusahaan telekomunikasi.\n",
        "\n",
        "Oleh karena itu, dapat disimpulkan bahwa lamanya customer berlangganan memiliki pengaruh signifikan terhadap tingkat churn dalam perusahaan tersebut.\n",
        "\n"
      ],
      "metadata": {
        "id": "OeKTmrG2cxnt"
      }
    },
    {
      "cell_type": "code",
      "source": [
        "plt.figure(figsize=(8, 4))\n",
        "sns.countplot(data=telco_df, x='Contract_Type', hue='Churn_Label', palette=\"Set2\")\n",
        "plt.title(\"Hubungan Antara Lama Berlangganan Dengan Tingkat Churn\")\n",
        "plt.xticks(fontsize=11)\n",
        "plt.xlabel(\"Lama Berlangganan\", fontsize=11)\n",
        "plt.show()"
      ],
      "metadata": {
        "id": "P8ACkXIFecqc"
      },
      "execution_count": null,
      "outputs": []
    },
    {
      "cell_type": "markdown",
      "source": [
        "***Bagaimana tingkat churn berkaitan dengan pembelian bulanan customer (Monthly Purchase)?***"
      ],
      "metadata": {
        "id": "ulbgWKt8dCtk"
      }
    },
    {
      "cell_type": "code",
      "source": [
        "plt.figure(figsize=(8, 4))\n",
        "sns.kdeplot(data=telco_df, x=\"Monthly_Purchase\", hue=\"Churn_Label\", common_norm=False, fill=True, palette=\"cubehelix\")\n",
        "plt.title(\"Distribusi Tingkat Churn berdasarkan pembelian bulanan (Monthly Purchase)\")\n",
        "plt.xlabel(\"Monthly Purchase\")\n",
        "plt.ylabel(\"Density\")\n",
        "plt.legend(title=\"Churn\", labels=[\"Tidak Churn\", \"Churn\"])"
      ],
      "metadata": {
        "id": "TIOU1MXWcsaK"
      },
      "execution_count": null,
      "outputs": []
    },
    {
      "cell_type": "markdown",
      "source": [
        "Customer yang melakukan transaksi per bulan rata-rata di atas Rp.75000, akan lebih cenderung melakukan churn dibandingkan dengan rata-rata transaksi di bawahnya."
      ],
      "metadata": {
        "id": "E_74ma7jdOA6"
      }
    },
    {
      "cell_type": "markdown",
      "source": [
        "***Apakah ada hubungan antara jenis pembayaran (Payment Method) dan tingkat churn?***"
      ],
      "metadata": {
        "id": "2EB6tOi8dSyf"
      }
    },
    {
      "cell_type": "code",
      "source": [
        "plt.figure(figsize=(8, 4))\n",
        "sns.countplot(data=telco_df, x='Payment_Method', hue='Churn_Label', palette='muted')\n",
        "plt.title(\"Hubungan Antara Jenis Pembayaran Dengan Tingkat Churn\")\n",
        "plt.xticks(fontsize=11)\n",
        "plt.xlabel(\"Jenis Pembayaran\", fontsize=11)\n",
        "plt.show()"
      ],
      "metadata": {
        "id": "nPfknU9Bcl0o"
      },
      "execution_count": null,
      "outputs": []
    },
    {
      "cell_type": "markdown",
      "source": [
        "Customer yang menggunakan metode pembayaran Pulsa lebih cenderung mengalami churn dibandingkan dengan customer yang menggunakan metode pembayaran lainnya"
      ],
      "metadata": {
        "id": "ijhpPfP-daYr"
      }
    },
    {
      "cell_type": "markdown",
      "source": [
        "***Apakah ada hubungan antara jenis perangkat dengan tingkat churn?***"
      ],
      "metadata": {
        "id": "qcT2dspEd7yy"
      }
    },
    {
      "cell_type": "code",
      "source": [
        "plt.figure(figsize=(8, 4))\n",
        "sns.countplot(data=telco_df, x='Device_Class', hue='Churn_Label', palette=\"pastel\")\n",
        "plt.title(\"Hubungan Antara Jenis Perangkat Dengan Tingkat Churn\")\n",
        "plt.xticks(fontsize=11)\n",
        "plt.xlabel(\"Jenis Perangkat\", fontsize=11)\n",
        "plt.show()"
      ],
      "metadata": {
        "id": "DkkuZd0MdoVx"
      },
      "execution_count": null,
      "outputs": []
    },
    {
      "cell_type": "markdown",
      "source": [
        "Customer yang menggunakan perangkat dengan spesifikasi tinggi cenderung mengalami churn dibandingkan dengan customer yang menggunakan perangkat dengan spesifikasi menengah dan rendah."
      ],
      "metadata": {
        "id": "Pkh1fBlcd0GY"
      }
    },
    {
      "cell_type": "markdown",
      "source": [
        "# **Data Preparation**"
      ],
      "metadata": {
        "id": "MpBjynpQeBPN"
      }
    },
    {
      "cell_type": "code",
      "source": [
        "import tensorflow as tf\n",
        "from tensorflow import keras\n",
        "import sklearn\n",
        "from sklearn.model_selection import train_test_split\n",
        "from imblearn.over_sampling import SMOTE"
      ],
      "metadata": {
        "id": "fUv4pT1Jg1aw"
      },
      "execution_count": null,
      "outputs": []
    },
    {
      "cell_type": "code",
      "source": [
        "telco_df.columns"
      ],
      "metadata": {
        "id": "G_XYbO3hfm2v"
      },
      "execution_count": null,
      "outputs": []
    },
    {
      "cell_type": "code",
      "source": [
        "#Menghapus kolom yang tidak digunakan\n",
        "columns_to_drop = ['Customer_ID', 'Longitude', 'Latitude','CLTV']\n",
        "df = telco_df.drop(columns=columns_to_drop, axis=1)\n",
        "df = pd.get_dummies(df)\n",
        "columns_to_drop = ['Location_Bandung', 'Games_Product_No', 'Music_Product_No', 'Education_Product_No', 'Call_Center_No', 'Video_Product_No', 'Use_MyApp_No', 'Churn_Label_No']\n",
        "df = df.drop(columns=columns_to_drop, axis=1)"
      ],
      "metadata": {
        "id": "GpuGBGMYev2r"
      },
      "execution_count": null,
      "outputs": []
    },
    {
      "cell_type": "code",
      "source": [
        "df_train = df.sample(frac=0.8, random_state=42)\n",
        "df_tmp = df.drop(df_train.index)\n",
        "\n",
        "df_test = df_tmp.sample(frac=0.5, random_state=42)\n",
        "df_val = df_tmp.drop(df_test.index)"
      ],
      "metadata": {
        "id": "Gc7fqshegEMe"
      },
      "execution_count": null,
      "outputs": []
    },
    {
      "cell_type": "code",
      "source": [
        "x_train = df_train\n",
        "y_train = df_train.pop('Churn_Label_Yes')\n",
        "x_test = df_test\n",
        "y_test = df_test.pop('Churn_Label_Yes')\n",
        "x_val = df_val\n",
        "y_val = df_val.pop('Churn_Label_Yes')"
      ],
      "metadata": {
        "id": "rXSUvakIgjMA"
      },
      "execution_count": null,
      "outputs": []
    },
    {
      "cell_type": "code",
      "source": [
        "labels_train = df_train.columns\n",
        "labels_test = df_test.columns\n",
        "labels_val = df_val.columns\n",
        "normalisasi = sklearn.preprocessing.StandardScaler()\n",
        "train_normalisasi = normalisasi.fit(x_train).transform(x_train)\n",
        "test_normalisasi = normalisasi.fit(x_test).transform(x_test)\n",
        "val_normalisasi = normalisasi.fit(x_val).transform(x_val)\n",
        "X_train = pd.DataFrame(train_normalisasi, columns=labels_train)\n",
        "X_test = pd.DataFrame(test_normalisasi, columns=labels_test)\n",
        "X_val = pd.DataFrame(val_normalisasi, columns=labels_val)\n",
        "X_train.head()"
      ],
      "metadata": {
        "id": "o95FJXOPgqBt"
      },
      "execution_count": null,
      "outputs": []
    },
    {
      "cell_type": "code",
      "source": [
        "model = keras.Sequential([\n",
        "    keras.layers.Dense(17, input_shape=(27,), activation='relu'),  # Gantilah input_shape sesuai dengan data Anda\n",
        "    tf.keras.layers.Dropout(0.1),\n",
        "    tf.keras.layers.BatchNormalization(),\n",
        "\n",
        "    # tf.keras.layers.Dense(4, activation='relu'),\n",
        "    # tf.keras.layers.BatchNormalization(),\n",
        "    # tf.keras.layers.Dropout(0.1),\n",
        "\n",
        "    tf.keras.layers.Dense(1, activation='sigmoid')\n",
        "])\n",
        "model.summary()\n",
        "model.compile(loss='binary_crossentropy',\n",
        "              optimizer=tf.keras.optimizers.RMSprop(),\n",
        "              metrics=['accuracy'])"
      ],
      "metadata": {
        "id": "_B1Ge-NTg76l"
      },
      "execution_count": null,
      "outputs": []
    },
    {
      "cell_type": "code",
      "source": [
        "smote = SMOTE(sampling_strategy=0.46, k_neighbors=10, random_state=42)\n",
        "X_train_res, y_train_res = smote.fit_resample(X_train, y_train)"
      ],
      "metadata": {
        "id": "F-l4HDXbhBQN"
      },
      "execution_count": null,
      "outputs": []
    },
    {
      "cell_type": "code",
      "source": [
        "history1 = model.fit(\n",
        "    X_train_res,\n",
        "    y_train_res,\n",
        "    epochs=100,\n",
        "    # validation_split= 0.2,\n",
        "    shuffle=True,\n",
        "    validation_data=(X_test, y_test),\n",
        "    # callbacks=callbacks_list,\n",
        "    batch_size = 256,\n",
        "    verbose=1\n",
        ")"
      ],
      "metadata": {
        "id": "IEBgUduuhFyV"
      },
      "execution_count": null,
      "outputs": []
    },
    {
      "cell_type": "code",
      "source": [
        "hist = pd.DataFrame(history1.history)\n",
        "hist['epoch'] = history1.epoch\n",
        "hist.tail()\n",
        "def plot_loss(history):\n",
        "  plt.plot(history1.history['loss'], label='loss')\n",
        "  plt.plot(history1.history['val_loss'], label='val_loss')\n",
        "  plt.ylim([0.1, 1])\n",
        "  plt.xlabel('Epoch')\n",
        "  plt.ylabel('Error [Churn]')\n",
        "  plt.legend()\n",
        "  plt.grid(True)\n",
        "\n",
        "plot_loss(history1)"
      ],
      "metadata": {
        "id": "GBB3NoMahgn0"
      },
      "execution_count": null,
      "outputs": []
    },
    {
      "cell_type": "code",
      "source": [
        "test_loss= model.evaluate(X_val, y_val, verbose=1)\n",
        "print('\\nTest', test_loss)"
      ],
      "metadata": {
        "id": "MJaoCKKEiO3I"
      },
      "execution_count": null,
      "outputs": []
    },
    {
      "cell_type": "code",
      "source": [
        "# predict the churn values\n",
        "y_pred = model.predict(X_val)\n",
        "# unscaling the ypred values\n",
        "y_pred_lis = []\n",
        "for i in y_pred:\n",
        "    if i>0.5:\n",
        "        y_pred_lis.append(1)\n",
        "    else:\n",
        "        y_pred_lis.append(0)"
      ],
      "metadata": {
        "id": "HISUc1iYiW0T"
      },
      "execution_count": null,
      "outputs": []
    },
    {
      "cell_type": "code",
      "source": [
        "# checking for performance metrices\n",
        "#importing classification_report and confusion metrics\n",
        "from sklearn.metrics import confusion_matrix, classification_report\n",
        "import seaborn as sb\n",
        "#print classification_report\n",
        "print(classification_report(y_val,y_pred_lis))\n",
        "# ploting the confusion metrix plot\n",
        "conf_mat = tf.math.confusion_matrix(labels=y_val,predictions=y_pred_lis)\n",
        "plt.figure(figsize = (17,7))\n",
        "sb.heatmap(conf_mat, annot=True,fmt='d')\n",
        "plt.xlabel('Predicted_number')\n",
        "plt.ylabel('True_number')"
      ],
      "metadata": {
        "id": "9-kGm7muicJ0"
      },
      "execution_count": null,
      "outputs": []
    }
  ]
}